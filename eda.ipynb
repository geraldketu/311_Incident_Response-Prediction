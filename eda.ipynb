{
 "cells": [
  {
   "cell_type": "code",
   "execution_count": 240,
   "id": "4a6ab15b",
   "metadata": {},
   "outputs": [
    {
     "name": "stdout",
     "output_type": "stream",
     "text": [
      "Requirement already satisfied: scikit-learn in c:\\users\\admin\\anaconda3\\envs\\tensorflow\\lib\\site-packages (1.7.0)\n",
      "Requirement already satisfied: numpy>=1.22.0 in c:\\users\\admin\\anaconda3\\envs\\tensorflow\\lib\\site-packages (from scikit-learn) (2.3.1)\n",
      "Requirement already satisfied: scipy>=1.8.0 in c:\\users\\admin\\anaconda3\\envs\\tensorflow\\lib\\site-packages (from scikit-learn) (1.16.0)\n",
      "Requirement already satisfied: joblib>=1.2.0 in c:\\users\\admin\\anaconda3\\envs\\tensorflow\\lib\\site-packages (from scikit-learn) (1.5.1)\n",
      "Requirement already satisfied: threadpoolctl>=3.1.0 in c:\\users\\admin\\anaconda3\\envs\\tensorflow\\lib\\site-packages (from scikit-learn) (3.6.0)\n",
      "Note: you may need to restart the kernel to use updated packages.\n"
     ]
    }
   ],
   "source": [
    "%pip install scikit-learn "
   ]
  },
  {
   "cell_type": "code",
   "execution_count": 241,
   "id": "09bc9718",
   "metadata": {},
   "outputs": [],
   "source": [
    "import pandas as pd\n",
    "import matplotlib.pyplot as plt\n",
    "\n"
   ]
  },
  {
   "cell_type": "code",
   "execution_count": 242,
   "id": "f102cf7e",
   "metadata": {},
   "outputs": [],
   "source": [
    "df=pd.read_csv('311 Response Data (2018-2023).csv')"
   ]
  },
  {
   "cell_type": "code",
   "execution_count": 243,
   "id": "58929992",
   "metadata": {},
   "outputs": [
    {
     "name": "stdout",
     "output_type": "stream",
     "text": [
      "<class 'pandas.core.frame.DataFrame'>\n",
      "RangeIndex: 12000 entries, 0 to 11999\n",
      "Data columns (total 23 columns):\n",
      " #   Column             Non-Null Count  Dtype  \n",
      "---  ------             --------------  -----  \n",
      " 0   RowID              12000 non-null  int64  \n",
      " 1   SRRecordID         12000 non-null  object \n",
      " 2   ServiceRequestNum  12000 non-null  object \n",
      " 3   SRType             12000 non-null  object \n",
      " 4   MethodReceived     12000 non-null  object \n",
      " 5   CreatedDate        12000 non-null  int64  \n",
      " 6   SRStatus           12000 non-null  object \n",
      " 7   StatusDate         12000 non-null  int64  \n",
      " 8   DueDate            11990 non-null  float64\n",
      " 9   CloseDate          11468 non-null  float64\n",
      " 10  Agency             11975 non-null  object \n",
      " 11  LastActivity       8034 non-null   object \n",
      " 12  LastActivityDate   7016 non-null   float64\n",
      " 13  Outcome            6245 non-null   object \n",
      " 14  Address            8263 non-null   object \n",
      " 15  ZipCode            8221 non-null   object \n",
      " 16  Neighborhood       8086 non-null   object \n",
      " 17  CouncilDistrict    8089 non-null   float64\n",
      " 18  PoliceDistrict     8089 non-null   object \n",
      " 19  PolicePost         2558 non-null   object \n",
      " 20  Latitude           8263 non-null   float64\n",
      " 21  Longitude          8263 non-null   float64\n",
      " 22  GeoLocation        8263 non-null   object \n",
      "dtypes: float64(6), int64(3), object(14)\n",
      "memory usage: 2.1+ MB\n"
     ]
    }
   ],
   "source": [
    "df.drop('Unnamed: 0',axis=1, inplace=True)\n",
    "df.info()"
   ]
  },
  {
   "cell_type": "code",
   "execution_count": 345,
   "id": "6fa9a7fb",
   "metadata": {},
   "outputs": [],
   "source": [
    "df['StatusDate'] = pd.to_datetime(df['StatusDate'], unit='ms')\n",
    "df['DueDate'] = pd.to_datetime(df['DueDate'], unit='ms')\n",
    "df['CloseDate'] = pd.to_datetime(df['CloseDate'], unit='ms')\n",
    "df['LastActivityDate'] = pd.to_datetime(df['LastActivityDate'], unit='ms')\n",
    "df['CreatedDate'] = pd.to_datetime(df['CreatedDate'], unit='ms')\n"
   ]
  },
  {
   "cell_type": "code",
   "execution_count": 346,
   "id": "7cbe28ce",
   "metadata": {},
   "outputs": [],
   "source": [
    "df['GeoLocation'].value_counts()\n",
    "df['ReqLengthOpen'] = df['CloseDate'] - df['CreatedDate']\n"
   ]
  },
  {
   "cell_type": "code",
   "execution_count": 347,
   "id": "28661779",
   "metadata": {},
   "outputs": [
    {
     "data": {
      "text/plain": [
       "(2162,)"
      ]
     },
     "execution_count": 347,
     "metadata": {},
     "output_type": "execute_result"
    }
   ],
   "source": [
    "# Convert timedelta to number of days\n",
    "days_open = df['ReqLengthOpen'].dt.days\n",
    "\n",
    "Q1 = days_open.quantile(0.25) \n",
    "Q3 = days_open.quantile(0.75)\n",
    "\n",
    "IQR = Q3-Q1\n",
    "\n",
    "lower_bound = Q1-(1.5*IQR)\n",
    "upper_bound = Q3+(1.5*IQR)\n",
    "\n",
    "outliers =  days_open[ (days_open< lower_bound) | (days_open> upper_bound)]\n",
    "outliers.shape\n",
    "\n",
    "# outliers  = [x for x in days_open if x<lower_bound or x> upper_bound ]\n",
    "\n"
   ]
  },
  {
   "cell_type": "code",
   "execution_count": 348,
   "id": "0a7eaeef",
   "metadata": {},
   "outputs": [
    {
     "name": "stdout",
     "output_type": "stream",
     "text": [
      "Lower Bound: -3.0\n",
      "Upper Bound: 5.0\n"
     ]
    }
   ],
   "source": [
    "print(f'Lower Bound: {lower_bound}')\n",
    "print(f'Upper Bound: {upper_bound}')"
   ]
  },
  {
   "cell_type": "code",
   "execution_count": 349,
   "id": "70884189",
   "metadata": {},
   "outputs": [
    {
     "data": {
      "text/plain": [
       "count    2162.000000\n",
       "mean       69.224792\n",
       "std       135.537163\n",
       "min      -324.000000\n",
       "25%        10.000000\n",
       "50%        23.000000\n",
       "75%        57.000000\n",
       "max      1761.000000\n",
       "Name: ReqLengthOpen, dtype: float64"
      ]
     },
     "execution_count": 349,
     "metadata": {},
     "output_type": "execute_result"
    }
   ],
   "source": [
    "outliers.describe()"
   ]
  },
  {
   "cell_type": "code",
   "execution_count": 350,
   "id": "7869e32a",
   "metadata": {},
   "outputs": [
    {
     "name": "stdout",
     "output_type": "stream",
     "text": [
      "9306\n"
     ]
    }
   ],
   "source": [
    "no_outliers = days_open[(days_open>=lower_bound) & (days_open <= upper_bound)]\n",
    "print(len(no_outliers))"
   ]
  },
  {
   "cell_type": "code",
   "execution_count": 351,
   "id": "9481d650",
   "metadata": {},
   "outputs": [],
   "source": [
    "test_full=days_open.dropna()"
   ]
  },
  {
   "cell_type": "code",
   "execution_count": 352,
   "id": "dbcc3d47",
   "metadata": {},
   "outputs": [
    {
     "name": "stdout",
     "output_type": "stream",
     "text": [
      "11468\n",
      "11468\n"
     ]
    }
   ],
   "source": [
    "print(len(no_outliers)+len(outliers))\n",
    "print(len(days_open.dropna()))"
   ]
  },
  {
   "cell_type": "code",
   "execution_count": 353,
   "id": "5ff1f814",
   "metadata": {},
   "outputs": [
    {
     "data": {
      "image/png": "[encoded data removed]",
      "text/plain": [
       "<Figure size 640x480 with 1 Axes>"
      ]
     },
     "metadata": {},
     "output_type": "display_data"
    }
   ],
   "source": [
    "no_outliers.plot.hist(bins=10)\n",
    "plt.title(\"Distrubution of Number of days an incident request was finalzied\")\n",
    "plt.ylabel(\"Frequency\")\n",
    "plt.xlabel(\"Number of Days\")\n",
    "plt.xlim(-1,upper_bound)\n",
    "plt.show()"
   ]
  },
  {
   "cell_type": "code",
   "execution_count": 354,
   "id": "d8578888",
   "metadata": {},
   "outputs": [],
   "source": [
    "features= df[['SRType','MethodReceived','CreatedDate','SRStatus','StatusDate','Outcome','Address','ZipCode','Neighborhood','CouncilDistrict', 'PoliceDistrict',\n",
    "       'PolicePost', 'Latitude', 'Longitude', 'GeoLocation']]"
   ]
  },
  {
   "cell_type": "code",
   "execution_count": 355,
   "id": "95fe63c0",
   "metadata": {},
   "outputs": [],
   "source": [
    "target_0=no_outliers[no_outliers<=3]\n",
    "tagret_1=no_outliers[no_outliers>3]"
   ]
  },
  {
   "cell_type": "code",
   "execution_count": 356,
   "id": "93204748",
   "metadata": {},
   "outputs": [
    {
     "name": "stdout",
     "output_type": "stream",
     "text": [
      "Number of Incidents that were adressed withing 3 day goal : 8918\n",
      "Number of Incidents that were adressed after 3 day goal : 388\n"
     ]
    }
   ],
   "source": [
    "print(f'Number of Incidents that were adressed withing 3 day goal : {len(target_0)}')\n",
    "print(f'Number of Incidents that were adressed after 3 day goal : {len(tagret_1)}')\n"
   ]
  },
  {
   "cell_type": "code",
   "execution_count": 357,
   "id": "8ca1a15e",
   "metadata": {},
   "outputs": [],
   "source": [
    "df['ReqLengthOpen'] = df['ReqLengthOpen'].dt.days\n"
   ]
  },
  {
   "cell_type": "code",
   "execution_count": 358,
   "id": "8c22c090",
   "metadata": {},
   "outputs": [
    {
     "data": {
      "text/plain": [
       "ReqLengthOpen\n",
       "0.0      7380\n",
       "1.0       877\n",
       "2.0       462\n",
       "4.0       223\n",
       "3.0       192\n",
       "         ... \n",
       "217.0       1\n",
       "143.0       1\n",
       "249.0       1\n",
       "118.0       1\n",
       "46.0        1\n",
       "Name: count, Length: 254, dtype: int64"
      ]
     },
     "execution_count": 358,
     "metadata": {},
     "output_type": "execute_result"
    }
   ],
   "source": [
    "\n",
    "df['Target'] = (df['ReqLengthOpen']<=3).astype(int) \n",
    "df['ReqLengthOpen'].value_counts()"
   ]
  },
  {
   "cell_type": "code",
   "execution_count": 359,
   "id": "a195f107",
   "metadata": {},
   "outputs": [
    {
     "data": {
      "text/plain": [
       "Target\n",
       "1    8921\n",
       "0    3079\n",
       "Name: count, dtype: int64"
      ]
     },
     "execution_count": 359,
     "metadata": {},
     "output_type": "execute_result"
    }
   ],
   "source": [
    "df['Target'].value_counts()"
   ]
  },
  {
   "cell_type": "code",
   "execution_count": 259,
   "id": "4cd359b1",
   "metadata": {},
   "outputs": [
    {
     "name": "stdout",
     "output_type": "stream",
     "text": [
      "<class 'pandas.core.frame.DataFrame'>\n",
      "RangeIndex: 12000 entries, 0 to 11999\n",
      "Data columns (total 25 columns):\n",
      " #   Column             Non-Null Count  Dtype         \n",
      "---  ------             --------------  -----         \n",
      " 0   RowID              12000 non-null  int64         \n",
      " 1   SRRecordID         12000 non-null  object        \n",
      " 2   ServiceRequestNum  12000 non-null  object        \n",
      " 3   SRType             12000 non-null  object        \n",
      " 4   MethodReceived     12000 non-null  object        \n",
      " 5   CreatedDate        12000 non-null  datetime64[ns]\n",
      " 6   SRStatus           12000 non-null  object        \n",
      " 7   StatusDate         12000 non-null  datetime64[ns]\n",
      " 8   DueDate            11990 non-null  datetime64[ns]\n",
      " 9   CloseDate          11468 non-null  datetime64[ns]\n",
      " 10  Agency             11975 non-null  object        \n",
      " 11  LastActivity       8034 non-null   object        \n",
      " 12  LastActivityDate   7016 non-null   datetime64[ns]\n",
      " 13  Outcome            6245 non-null   object        \n",
      " 14  Address            8263 non-null   object        \n",
      " 15  ZipCode            8221 non-null   object        \n",
      " 16  Neighborhood       8086 non-null   object        \n",
      " 17  CouncilDistrict    8089 non-null   float64       \n",
      " 18  PoliceDistrict     8089 non-null   object        \n",
      " 19  PolicePost         2558 non-null   object        \n",
      " 20  Latitude           8263 non-null   float64       \n",
      " 21  Longitude          8263 non-null   float64       \n",
      " 22  GeoLocation        8263 non-null   object        \n",
      " 23  ReqLengthOpen      11468 non-null  float64       \n",
      " 24  Target             12000 non-null  int64         \n",
      "dtypes: datetime64[ns](5), float64(4), int64(2), object(14)\n",
      "memory usage: 2.3+ MB\n"
     ]
    }
   ],
   "source": [
    "df.info()"
   ]
  },
  {
   "cell_type": "code",
   "execution_count": 360,
   "id": "62b02f51",
   "metadata": {},
   "outputs": [
    {
     "data": {
      "text/plain": [
       "0       2018-11-19 13:25:24\n",
       "1       2018-11-19 15:01:04\n",
       "2       2018-11-18 11:40:46\n",
       "3       2019-06-28 10:03:00\n",
       "4       2018-11-18 10:55:40\n",
       "                ...        \n",
       "11995   2023-01-02 14:23:33\n",
       "11996   2023-01-02 13:20:55\n",
       "11997   2023-01-02 13:22:34\n",
       "11998   2023-01-02 22:49:57\n",
       "11999   2023-01-02 13:26:04\n",
       "Name: StatusDate, Length: 12000, dtype: datetime64[ns]"
      ]
     },
     "execution_count": 360,
     "metadata": {},
     "output_type": "execute_result"
    }
   ],
   "source": [
    "test=pd.to_datetime(df['StatusDate'],unit=\"D\")\n",
    "test"
   ]
  },
  {
   "cell_type": "code",
   "execution_count": 261,
   "id": "ae22efc2",
   "metadata": {},
   "outputs": [
    {
     "data": {
      "text/plain": [
       "Index(['RowID', 'SRRecordID', 'ServiceRequestNum', 'SRType', 'MethodReceived',\n",
       "       'CreatedDate', 'SRStatus', 'StatusDate', 'DueDate', 'CloseDate',\n",
       "       'Agency', 'LastActivity', 'LastActivityDate', 'Outcome', 'Address',\n",
       "       'ZipCode', 'Neighborhood', 'CouncilDistrict', 'PoliceDistrict',\n",
       "       'PolicePost', 'Latitude', 'Longitude', 'GeoLocation', 'ReqLengthOpen',\n",
       "       'Target'],\n",
       "      dtype='object')"
      ]
     },
     "execution_count": 261,
     "metadata": {},
     "output_type": "execute_result"
    }
   ],
   "source": [
    "df.columns"
   ]
  },
  {
   "cell_type": "markdown",
   "id": "f6c0d8ce",
   "metadata": {},
   "source": [
    "### Mainly removed dates because we calculated our target using a requests closed date - its open date and other requent identifiers like SRRecordID"
   ]
  },
  {
   "cell_type": "code",
   "execution_count": 270,
   "id": "fffaca84",
   "metadata": {},
   "outputs": [],
   "source": [
    "to_drop=['SRRecordID','ServiceRequestNum','CreatedDate','StatusDate','DueDate','CloseDate','GeoLocation','ReqLengthOpen','LastActivityDate'  ]"
   ]
  },
  {
   "cell_type": "code",
   "execution_count": 273,
   "id": "1e316853",
   "metadata": {},
   "outputs": [
    {
     "data": {
      "text/plain": [
       "CouncilDistrict\n",
       "9.0     769\n",
       "1.0     760\n",
       "13.0    748\n",
       "12.0    730\n",
       "11.0    684\n",
       "3.0     570\n",
       "10.0    527\n",
       "8.0     525\n",
       "7.0     525\n",
       "14.0    513\n",
       "6.0     469\n",
       "4.0     452\n",
       "2.0     445\n",
       "5.0     372\n",
       "Name: count, dtype: int64"
      ]
     },
     "execution_count": 273,
     "metadata": {},
     "output_type": "execute_result"
    }
   ],
   "source": [
    "df['CouncilDistrict'].value_counts()"
   ]
  },
  {
   "cell_type": "code",
   "execution_count": 361,
   "id": "f99af5d1",
   "metadata": {},
   "outputs": [
    {
     "name": "stdout",
     "output_type": "stream",
     "text": [
      "<class 'pandas.core.frame.DataFrame'>\n",
      "RangeIndex: 12000 entries, 0 to 11999\n",
      "Data columns (total 16 columns):\n",
      " #   Column           Non-Null Count  Dtype  \n",
      "---  ------           --------------  -----  \n",
      " 0   RowID            12000 non-null  int64  \n",
      " 1   SRType           12000 non-null  object \n",
      " 2   MethodReceived   12000 non-null  object \n",
      " 3   SRStatus         12000 non-null  object \n",
      " 4   Agency           11975 non-null  object \n",
      " 5   LastActivity     8034 non-null   object \n",
      " 6   Outcome          6245 non-null   object \n",
      " 7   Address          8263 non-null   object \n",
      " 8   ZipCode          8221 non-null   object \n",
      " 9   Neighborhood     8086 non-null   object \n",
      " 10  CouncilDistrict  8089 non-null   float64\n",
      " 11  PoliceDistrict   8089 non-null   object \n",
      " 12  PolicePost       2558 non-null   object \n",
      " 13  Latitude         8263 non-null   float64\n",
      " 14  Longitude        8263 non-null   float64\n",
      " 15  Target           12000 non-null  int64  \n",
      "dtypes: float64(3), int64(2), object(11)\n",
      "memory usage: 1.5+ MB\n"
     ]
    }
   ],
   "source": [
    "df2 = df.drop(columns=to_drop)\n",
    "df2.info()"
   ]
  },
  {
   "cell_type": "code",
   "execution_count": 362,
   "id": "9396d39c",
   "metadata": {},
   "outputs": [
    {
     "data": {
      "text/plain": [
       "Index(['RowID', 'SRType', 'MethodReceived', 'SRStatus', 'Agency',\n",
       "       'LastActivity', 'Outcome', 'Address', 'ZipCode', 'Neighborhood',\n",
       "       'CouncilDistrict', 'PoliceDistrict', 'PolicePost', 'Latitude',\n",
       "       'Longitude', 'Target'],\n",
       "      dtype='object')"
      ]
     },
     "execution_count": 362,
     "metadata": {},
     "output_type": "execute_result"
    }
   ],
   "source": [
    "df2.columns "
   ]
  },
  {
   "cell_type": "code",
   "execution_count": 363,
   "id": "9c065139",
   "metadata": {},
   "outputs": [],
   "source": [
    "from sklearn.feature_selection import chi2\n",
    "from sklearn.preprocessing import OneHotEncoder"
   ]
  },
  {
   "cell_type": "code",
   "execution_count": 364,
   "id": "d35b002c",
   "metadata": {},
   "outputs": [
    {
     "name": "stdout",
     "output_type": "stream",
     "text": [
      "Categorical columns: ['SRType', 'MethodReceived', 'SRStatus', 'Agency', 'LastActivity', 'Outcome', 'Address', 'ZipCode', 'Neighborhood', 'PoliceDistrict', 'PolicePost']\n",
      "Shape of categorical data: (12000, 11)\n",
      "Sample of categorical data:\n",
      "                                 SRType MethodReceived SRStatus  \\\n",
      "0                       SW-Mixed Refuse            API   Closed   \n",
      "1              HCD-Zoning Investigation            API   Closed   \n",
      "2            TRT-Traffic Signal Repairs          Phone   Closed   \n",
      "3  HCD-Illegal Signs on Public Property            API   Closed   \n",
      "4                     SW-Bulk Scheduled          Phone   Closed   \n",
      "\n",
      "                                              Agency      LastActivity  \\\n",
      "0  Solid Waste                                   ...  Service Response   \n",
      "1  Housing                                       ...  Service Response   \n",
      "2  Transportation                                ...  Service Response   \n",
      "3  Housing                                       ...  Service Response   \n",
      "4  Solid Waste                                   ...  Service Response   \n",
      "\n",
      "                       Outcome  \\\n",
      "0  Work could not be completed   \n",
      "1               Work completed   \n",
      "2               Work completed   \n",
      "3               Work completed   \n",
      "4                          NaN   \n",
      "\n",
      "                                             Address ZipCode  \\\n",
      "0            4004 BALFERN AVE, Baltimore City, 21213   21213   \n",
      "1             4708 HARFORD RD, Baltimore City, 21214   21214   \n",
      "2  SIGNAL 1055 - NORTH / POPLAR GROVE, W NORTH AV...   21216   \n",
      "3  E MOUNT ROYAL AVE & ST PAUL ST, Baltimore City...   21201   \n",
      "4           5618 CADILLAC AVE, Baltimore City, 21207   21207   \n",
      "\n",
      "                 Neighborhood PoliceDistrict PolicePost  \n",
      "0               Belair-Edison   Northeastern        NaN  \n",
      "1                  Lauraville   Northeastern        NaN  \n",
      "2  Northwest Community Action   Southwestern        NaN  \n",
      "3          Mid-Town Belvedere        Central        NaN  \n",
      "4                  Grove Park   Northwestern        NaN  \n",
      "Fitting encoder...\n",
      "Actual encoded shape: (12000, 8068)\n",
      "Number of feature names: 8068\n"
     ]
    }
   ],
   "source": [
    "# Start fresh - complete code\n",
    "from sklearn.preprocessing import OneHotEncoder\n",
    "import pandas as pd\n",
    "\n",
    "# Get categorical columns\n",
    "categorical_columns = df2.select_dtypes(include=['object']).columns.tolist()\n",
    "print(\"Categorical columns:\", categorical_columns)\n",
    "print(\"Shape of categorical data:\", df2[categorical_columns].shape)\n",
    "\n",
    "# Check for any issues with the categorical data\n",
    "print(\"Sample of categorical data:\")\n",
    "print(df2[categorical_columns].head())\n",
    "\n",
    "# Initialize encoder\n",
    "encoder = OneHotEncoder(sparse_output=False, drop='first', handle_unknown='ignore')\n",
    "\n",
    "# Fit and transform\n",
    "print(\"Fitting encoder...\")\n",
    "encoded_categoricals = encoder.fit_transform(df2[categorical_columns])\n",
    "print(\"Actual encoded shape:\", encoded_categoricals.shape)\n",
    "\n",
    "# Only get feature names if encoding worked correctly\n",
    "if encoded_categoricals.shape[1] > 1:\n",
    "    feature_names = encoder.get_feature_names_out(categorical_columns)\n",
    "    print(\"Number of feature names:\", len(feature_names))\n",
    "    \n",
    "    # Create DataFrame\n",
    "    df_encoded_cat = pd.DataFrame(encoded_categoricals, \n",
    "                                  columns=feature_names, \n",
    "                                  index=df2.index)\n",
    "else:\n",
    "    print(\"ERROR: Encoding resulted in only 1 column!\")\n",
    "    print(\"This suggests an issue with the categorical data or encoder settings.\")"
   ]
  },
  {
   "cell_type": "code",
   "execution_count": 365,
   "id": "4f55cd04",
   "metadata": {},
   "outputs": [
    {
     "name": "stdout",
     "output_type": "stream",
     "text": [
      "Final dataset shape: (12000, 8073)\n",
      "Total features: 8073\n",
      "Dataset is ready for machine learning!\n",
      "Numerical columns: 5\n",
      "Encoded categorical columns: 8068\n",
      "Total: 8073 = 8073 ✓\n"
     ]
    }
   ],
   "source": [
    "# Get numerical columns (excluding categorical ones)\n",
    "numerical_columns = ['RowID', 'CouncilDistrict', 'Latitude', 'Longitude']\n",
    "\n",
    "# Add Target column if you want to keep it for supervised learning\n",
    "if 'Target' in df2.columns:\n",
    "    numerical_columns.append('Target')\n",
    "\n",
    "# Combine numerical and encoded categorical columns\n",
    "df_final = pd.concat([df2[numerical_columns], df_encoded_cat], axis=1)\n",
    "\n",
    "print(f\"Final dataset shape: {df_final.shape}\")\n",
    "print(f\"Total features: {df_final.shape[1]}\")\n",
    "print(\"Dataset is ready for machine learning!\")\n",
    "\n",
    "# Quick check\n",
    "print(f\"Numerical columns: {len(numerical_columns)}\")\n",
    "print(f\"Encoded categorical columns: {df_encoded_cat.shape[1]}\")\n",
    "print(f\"Total: {len(numerical_columns) + df_encoded_cat.shape[1]} = {df_final.shape[1]} ✓\")"
   ]
  },
  {
   "cell_type": "code",
   "execution_count": 369,
   "id": "0f05986c",
   "metadata": {},
   "outputs": [],
   "source": [
    "df_final.to_csv(\"final_dataset.csv\")"
   ]
  },
  {
   "cell_type": "code",
   "execution_count": 371,
   "id": "e06510db",
   "metadata": {},
   "outputs": [
    {
     "name": "stdout",
     "output_type": "stream",
     "text": [
      "Original Length12000\n",
      "No nan length 8089\n"
     ]
    }
   ],
   "source": [
    "x=df_final.dropna()\n",
    "print(f'Original Length{len(df)}')\n",
    "print(f'No nan length {len(x)}')"
   ]
  }
 ],
 "metadata": {
  "kernelspec": {
   "display_name": "tensorflow",
   "language": "python",
   "name": "python3"
  },
  "language_info": {
   "codemirror_mode": {
    "name": "ipython",
    "version": 3
   },
   "file_extension": ".py",
   "mimetype": "text/x-python",
   "name": "python",
   "nbconvert_exporter": "python",
   "pygments_lexer": "ipython3",
   "version": "3.11.7"
  }
 },
 "nbformat": 4,
 "nbformat_minor": 5
}
