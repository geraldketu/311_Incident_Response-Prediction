{
 "cells": [
  {
   "cell_type": "code",
   "execution_count": 2,
   "id": "26e93d81",
   "metadata": {},
   "outputs": [],
   "source": [
    "import requests\n",
    "import pandas as pd"
   ]
  },
  {
   "cell_type": "code",
   "execution_count": 3,
   "id": "f1342b85",
   "metadata": {},
   "outputs": [],
   "source": [
    "urls={\n",
    "    2018:\"https://services1.arcgis.com/UWYHeuuJISiGmgXx/ArcGIS/rest/services/311_Customer_Service_Requests_Yearly/FeatureServer/4/query\",\n",
    "    2019:\"https://services1.arcgis.com/UWYHeuuJISiGmgXx/ArcGIS/rest/services/311_Customer_Service_Requests_Yearly/FeatureServer/3/query\",\n",
    "    2020:\"https://services1.arcgis.com/UWYHeuuJISiGmgXx/ArcGIS/rest/services/311_Customer_Service_Requests_Yearly/FeatureServer/2/query\",\n",
    "    2021:\"https://services1.arcgis.com/UWYHeuuJISiGmgXx/ArcGIS/rest/services/311_Customer_Service_Requests_Yearly/FeatureServer/1/query\",\n",
    "    2022:\"https://services1.arcgis.com/UWYHeuuJISiGmgXx/ArcGIS/rest/services/311_Customer_Service_Requests_Yearly/FeatureServer/0/query\",\n",
    "    2023:\"https://services1.arcgis.com/UWYHeuuJISiGmgXx/arcgis/rest/services/311_Customer_Service_Requests_2023/FeatureServer/0/query\"\n",
    "}"
   ]
  },
  {
   "cell_type": "code",
   "execution_count": 4,
   "id": "185e3fe2",
   "metadata": {},
   "outputs": [],
   "source": [
    "\n",
    "params = {\n",
    "    \"where\": \"1=1\",               # fetch all rows\n",
    "    \"outFields\": \"*\",             # all fields\n",
    "    \"f\": \"geojson\"              # format as GeoJSON\n",
    "}\n",
    "\n",
    "def api_request(url):\n",
    "    '''\n",
    "    Makes an api request using the end point and returns a dataframe\n",
    "    '''\n",
    "    response = requests.get(url, params=params)\n",
    "    if response.status_code == 200:\n",
    "        data = response.json()\n",
    "        records = [feature[\"properties\"] for feature in data[\"features\"]]\n",
    "        return pd.DataFrame(records)\n",
    "    else:\n",
    "        print(\"Failed to retrieve data:\", response.status_code)\n",
    "        return\n"
   ]
  },
  {
   "cell_type": "code",
   "execution_count": 26,
   "id": "f5f0bf02",
   "metadata": {},
   "outputs": [],
   "source": [
    "data_frames=[api_request(x) for x in urls.values()]"
   ]
  },
  {
   "cell_type": "code",
   "execution_count": 27,
   "id": "a232f194",
   "metadata": {},
   "outputs": [
    {
     "data": {
      "text/plain": [
       "True"
      ]
     },
     "execution_count": 27,
     "metadata": {},
     "output_type": "execute_result"
    }
   ],
   "source": [
    "# data_frames[0].info()\n",
    "data_frames[0].columns.values.tolist()== data_frames[1].columns.values.tolist()"
   ]
  },
  {
   "cell_type": "code",
   "execution_count": null,
   "id": "8f2fee0d",
   "metadata": {},
   "outputs": [
    {
     "name": "stdout",
     "output_type": "stream",
     "text": [
      "True\n"
     ]
    }
   ],
   "source": [
    "#Checking to see if all dataframes have the same columns\n",
    "col_bool=True\n",
    "for i in range(len(data_frames)-2):\n",
    "    col_bool = col_bool and (data_frames[i].columns.values.tolist() == data_frames[i+1].columns.values.tolist())\n",
    "print(col_bool)"
   ]
  },
  {
   "cell_type": "code",
   "execution_count": null,
   "id": "eee44eda",
   "metadata": {},
   "outputs": [],
   "source": [
    "\n",
    "df=pd.concat(data_frames)\n"
   ]
  },
  {
   "cell_type": "code",
   "execution_count": 38,
   "id": "1caa8ce7",
   "metadata": {},
   "outputs": [],
   "source": [
    "df.to_csv(\"311 Response Data (2018-2023).csv\")"
   ]
  }
 ],
 "metadata": {
  "kernelspec": {
   "display_name": "tensorflow",
   "language": "python",
   "name": "python3"
  },
  "language_info": {
   "codemirror_mode": {
    "name": "ipython",
    "version": 3
   },
   "file_extension": ".py",
   "mimetype": "text/x-python",
   "name": "python",
   "nbconvert_exporter": "python",
   "pygments_lexer": "ipython3",
   "version": "3.11.7"
  }
 },
 "nbformat": 4,
 "nbformat_minor": 5
}
